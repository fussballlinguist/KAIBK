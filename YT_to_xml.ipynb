{
 "cells": [
  {
   "cell_type": "markdown",
   "id": "9a934718",
   "metadata": {},
   "source": [
    "## Jupyter Notebook zur Umwandlung von YouTube Data Tools-Dateien (tsv) in XML\n",
    "\n",
    "Autor: Simon Meier-Vieracker (https://github.com/fussballlinguist/)"
   ]
  },
  {
   "cell_type": "code",
   "execution_count": 6,
   "id": "c56ff059",
   "metadata": {},
   "outputs": [],
   "source": [
    "import xml.etree.ElementTree as et\n",
    "from xml.dom import minidom\n",
    "import csv\n",
    "import re"
   ]
  },
  {
   "cell_type": "code",
   "execution_count": 7,
   "id": "cdad4744",
   "metadata": {},
   "outputs": [],
   "source": [
    "with open(\"Data/youtube_comments.tsv\") as f:\n",
    "    txt = f.readlines()[1:]\n",
    "csvreader = csv.reader(txt, delimiter='\\t')"
   ]
  },
  {
   "cell_type": "code",
   "execution_count": 8,
   "id": "73359061",
   "metadata": {},
   "outputs": [],
   "source": [
    "# XML-Datei anlegen\n",
    "corpus = et.Element(\"corpus\")\n",
    "\n",
    "# CSV-Datei durchgehen, Text und Metadaten auslesen und in XML-Datei schreiben\n",
    "for row in csvreader:\n",
    "    text = row[5]\n",
    "    text = re.sub(r'<.+?>', ' ', text)\n",
    "    publishedAt = row[3]\n",
    "    authorName = row[4]\n",
    "    replyCount = row[1]\n",
    "    likeCount = row[2]\n",
    "    comment = et.SubElement(corpus, \"comment\",{\"publishedAt\":publishedAt,\"authorName\":authorName,\"replyCount\":replyCount,\"likeCount\":likeCount})\n",
    "    comment.text = text"
   ]
  },
  {
   "cell_type": "code",
   "execution_count": 10,
   "id": "abb19c57",
   "metadata": {},
   "outputs": [
    {
     "name": "stdout",
     "output_type": "stream",
     "text": [
      "<?xml version=\"1.0\" ?>\n",
      "<corpus>\n",
      "  <comment publishedAt=\"2022-09-22 13:45:07\" authorName=\"7dc54ef65b54868e87e48d9857e3bcaba05d73d9\" replyCount=\"1\" likeCount=\"0\">Super, danke! Frage: Kann ich Quellen aus dem Word in Zotero einfügen? Bisher habe ich immer mit Word selber gearbeitet. Schön wäre, wenn sich diese Quellen von Word nach Zotero einfügen lassen könnten!</comment>\n",
      "  <comment publishedAt=\"2022-09-26 06:56:39\" authorName=\"ac101a4f0614bc247292d67592ce9a93f106db87\" replyCount=\"\" likeCount=\"1\">Ein Direktimport geht nicht, aber man kann versuchen, eine Quellenangabe bei Google einzugeben, sich zur Journal-Homepage klicken und dann importieren.</comment>\n",
      "  <comment publishedAt=\"2022-06-21 15:49:52\" authorName=\"486d2fa5776cc105beb982b2c73383182c32f0e6\" replyCount=\"1\" likeCount=\"0\">Vielen Dank für das Video :). Ich bin noch ein Neuling was das Programm angeht und wollte einmal fragen, wie Sie das Literaturverzeichnis bei Aufsätzen in Sammelbändern führen, da dies keine eigene Option im Programm ist. Ich vermute, dass der Buchteil ein Weg für den Aufsatz ist, oder haben Sie einen besseren Vorschlag? Vielen Dank an die Person, die dies vielleicht liest und beantwortet. Liebe Grüße!</comment>\n",
      "  <comment publishedAt=\"2022-06-21 15:58:36\" authorName=\"ac101a4f0614bc247292d67592ce9a93f106db87\" replyCount=\"\" likeCount=\"1\">Dafür gibt es den Publikationstyp &quot;Chapter&quot; oder auf Deutsch: Buchteil. Und dann kann man die Herausgebenden und den Buchtitel angeben.</comment>\n",
      "  <comment publishedAt=\"2022-05-26 15:01:34\" authorName=\"d4b8fcacc0ba49b0a7ff05472b1aa26e16a021e3\" replyCount=\"2\" likeCount=\"0\">Guten Tag! Gibt es eine Möglichkeit, die bei Websites mit abgespeicherten Screenshots (alle) extern abzuspeichern? Ich soll die Screenshots alle einzeln mit abgeben bei meiner Bachelorarbeit. Dankeschön :) Ihr Video war übrigens sehr übersichtlich und gut erklärt, danke dafür.</comment>\n",
      "  <comment publishedAt=\"2022-05-26 20:32:44\" authorName=\"ac101a4f0614bc247292d67592ce9a93f106db87\" replyCount=\"\" likeCount=\"1\">Rechtsklick --&gt; Datei anzeigen</comment>\n",
      "  <comment publishedAt=\"2022-05-29 11:22:56\" authorName=\"d4b8fcacc0ba49b0a7ff05472b1aa26e16a021e3\" replyCount=\"\" likeCount=\"0\">@@ali_tudresden Okay cool :) Bei mir lädt es dann noch eine Zotero Cache Datei runter, die braucht es nicht, oder? GIbt es evt eine Möglichkeit, das auch als Bilddatei downzuloaden? Und alle Screenshots einer Bibliothek geht nicht, oder? Zumindest habe ich leider nichts dazu gefunden. Danke schon einmal für die Antwort :)</comment>\n",
      "  <comment publishedAt=\"2022-05-04 09:56:11\" authorName=\"0a0aea0ebc3a0cbdfc761307d33e194bcf2c6883\" replyCount=\"2\" likeCount=\"0\">Kann man damit auch Zitate sammeln? Oder ist fertige Zitationsangaben in MS Word zu printen alles was Zotero kann?</comment>\n",
      "  <comment publishedAt=\"2022-05-04 10:01:23\" authorName=\"ac101a4f0614bc247292d67592ce9a93f106db87\" replyCount=\"\" likeCount=\"1\">Wenn du damit meinst: Literaturangaben erfassen, also Items zur Bibliothek hinzufügen: Ja (wie, erkläre ich im Video)</comment>\n",
      "  <comment publishedAt=\"2022-05-04 13:46:50\" authorName=\"0a0aea0ebc3a0cbdfc761307d33e194bcf2c6883\" replyCount=\"\" likeCount=\"0\">@@ali_tudresden Nein, ich meinte eigentlich eine Art &quot;text-snippets&quot; aus dem Original Text. Kenne das aus Citavi, dass man z.B. einen Satz speichern kann und diesen dann komplett mit Kurzbeleg in eine Word Datei übertragen kann. Aber eventuell liege ich auch falsch, wenn ich in Zotero einen Citavi Ersatz suche.</comment>\n",
      "  <comment publishedAt=\"2022-01-02 21:02:06\" authorName=\"7f6f61476435ae07195178de39473bb396d8bdbf\" replyCount=\"1\" likeCount=\"0\">kurze Frage: wie mache ich es, wenn z.B. eine Abiildung selbst erstellt wurde? also eigene Darstellung. Zotero findet ja nur die vorher eingepflegten Quellen.</comment>\n",
      "  <comment publishedAt=\"2022-01-03 06:34:40\" authorName=\"ac101a4f0614bc247292d67592ce9a93f106db87\" replyCount=\"\" likeCount=\"1\">Wozu eigentlich? Es geht ja um Zitate, also um Kennzeichnungen von wörtlich oder paraphrasierend übernommenem Material aus publizierten Quellen (egal ob eigene oder fremde). Wenn es um neu erstellte eigene Abbildungen geht, müssen die gar nicht zitiert werden.</comment>\n",
      "  <comment publishedAt=\"2021-12-15 21:48:48\" authorName=\"0202dcd1564e396e55b5415575038ad89dea2e30\" replyCount=\"0\" likeCount=\"1\">Danke für das sehr hilfreiche Video! Klar und deutlich aufbereitet!</comment>\n",
      "  <comment publishedAt=\"2021-12-03 15:28:56\" authorName=\"21b8fbfdcd84462c19a38f9b33c578cc142d70c8\" replyCount=\"1\" likeCount=\"0\">&quot;Kostenlos&quot; stimmt so nicht: Ab einem gewissen Datenvolumen fallen Gebühren an. Diese sind zwar erfrischend gering, aber eben doch existent.</comment>\n",
      "  <comment publishedAt=\"2021-12-03 15:39:12\" authorName=\"ac101a4f0614bc247292d67592ce9a93f106db87\" replyCount=\"\" likeCount=\"0\">Ja, aber die Gebühren fallen nur an, wenn man die Daten mit der Cloud syncen will.</comment>\n",
      "  <comment publishedAt=\"2021-11-30 13:43:42\" authorName=\"5db049607bf50d9fa46e23426d0997cdb8c59d81\" replyCount=\"2\" likeCount=\"1\">Vielen Dank für das hilfreiche Video. Habe ich richtig verstanden, dass ich die PDFs aus meinen Ordnern löschen kann, wenn ich sie in Zotero gezogen habe? Denn sie werden nicht nur verknüpft, sondern richtig hinterlegt im Ordner?</comment>\n",
      "  <comment publishedAt=\"2021-11-30 14:43:09\" authorName=\"ac101a4f0614bc247292d67592ce9a93f106db87\" replyCount=\"\" likeCount=\"1\">Ich denke schon, vielleicht kann man es aber auch so einstellen, dass es nur verknüpft wird. Zum Test mal &quot;Show attached file&quot; klicken, da wird der Pfad angezeigt.</comment>\n",
      "  <comment publishedAt=\"2021-11-30 17:01:05\" authorName=\"5db049607bf50d9fa46e23426d0997cdb8c59d81\" replyCount=\"\" likeCount=\"0\">@@ali_tudresden Habe ich getestet und ja, es liegt nochmal extra im Zotero Storage.</comment>\n",
      "  <comment publishedAt=\"2021-10-25 19:43:27\" authorName=\"63a2a5634e7497b77ad9bcf8e1b437977d94684a\" replyCount=\"3\" likeCount=\"1\">Danke für Deine Arbeit!</comment>\n",
      "  <comment publishedAt=\"2021-10-26 12:41:36\" authorName=\"ac101a4f0614bc247292d67592ce9a93f106db87\" replyCount=\"\" likeCount=\"0\">Gerne!</comment>\n",
      "  <comment publishedAt=\"2021-10-26 13:22:41\" authorName=\"63a2a5634e7497b77ad9bcf8e1b437977d94684a\" replyCount=\"\" likeCount=\"0\">@@ali_tudresden Eine Frage ergibt sich: Wie wird Zitiert bei einem Herausgeberband?</comment>\n",
      "  <comment publishedAt=\"2021-10-27 10:28:22\" authorName=\"ac101a4f0614bc247292d67592ce9a93f106db87\" replyCount=\"\" likeCount=\"0\">@@user Soll der ganze Band zitiert werden? Ganz einfach: Als Book, dann aber statt Author nur Editor angeben.</comment>\n",
      "  <comment publishedAt=\"2021-08-19 08:22:39\" authorName=\"5772bb02879a6fa3fd94444ebb35b4d349654e8e\" replyCount=\"0\" likeCount=\"1\">Dieses Video ist sehr hilfreich und gut gestaltet! Danke</comment>\n",
      "  <comment publishedAt=\"2021-06-25 07:58:12\" authorName=\"b0adb74c4ce1f9759e883aac73174f0ac080ad27\" replyCount=\"1\" likeCount=\"0\">Gibt es irgendeine Weise, die Fehler bei der automatischen Erstellung der Einträge, sei es über den Zauberstab oder das Firefox-Plugin, zu vermeiden? Ich hatte dadurch echt Ärger an der Backe. Das Problem war, dass ich die Einträge für die Gruppe erstellt habe und selbst die Werke nicht kannte und mir daher falsche Informationen nicht sofort ins Auge sprangen. Zudem waren oft überschüssige Informationen eingefügt worden, die man dann eliminieren musste.</comment>\n",
      "  <comment publishedAt=\"2021-06-25 08:02:39\" authorName=\"ac101a4f0614bc247292d67592ce9a93f106db87\" replyCount=\"\" likeCount=\"1\">Naja, das liegt halt an den Metadaten, die von den Verlagen und Plattformen mit wechselnder Verlässlichkeit bereitgestellt werden.</comment>\n",
      "  <comment publishedAt=\"2021-05-15 11:08:40\" authorName=\"5de6b88a6a3bbc6ae30a362d0fdd8f06e41dbbb6\" replyCount=\"2\" likeCount=\"0\">Hi, danke für das Video! Ich hab mal gehört, Zotero hat auch die Funktion, dass alles, was ich in einer PDF markiert habe, rauskopiert wird in ein extra Dokument. Weißt du da mehr? Ich finde dazu leider keine Infos...</comment>\n",
      "  <comment publishedAt=\"2021-05-15 13:33:30\" authorName=\"ac101a4f0614bc247292d67592ce9a93f106db87\" replyCount=\"\" likeCount=\"0\">Das geht mW mit dem Plugin ZotFile, aber ich weiß auf die Schnelle nichts genaues.</comment>\n",
      "  <comment publishedAt=\"2021-05-24 16:32:14\" authorName=\"5de6b88a6a3bbc6ae30a362d0fdd8f06e41dbbb6\" replyCount=\"\" likeCount=\"1\">@@ali_tudresden Danke, genau das ist es! Klasse, das wird mein Studi-Leben wirklich vereinfachen. Tausend Dank dir!</comment>\n",
      "  <comment publishedAt=\"2021-04-13 14:36:02\" authorName=\"a81c5488174d55d5de95a8c7343ba486e4f25054\" replyCount=\"0\" likeCount=\"2\">Vielen Dank, tolle Einführung!</comment>\n",
      "  <comment publishedAt=\"2021-04-07 10:37:16\" authorName=\"efacec81d4b51b66bce581a3eddc84cf42ff4078\" replyCount=\"0\" likeCount=\"1\">Vielen Dank, sehr gut erklärt.</comment>\n",
      "  <comment publishedAt=\"2021-04-07 03:37:47\" authorName=\"962d8c6bf868ee9c8331f482a78df53284fddf96\" replyCount=\"0\" likeCount=\"0\">Vielen Dank für das Video, Habe mir letzte Woche einen Mac gekauft und mit der neusten Version ist das Layout von Word komplett anders und das zotero Plugin lässt sich nicht finden - können Sie mir da evtl. helfen? Vielen Dank und LG</comment>\n",
      "  <comment publishedAt=\"2021-03-08 16:16:19\" authorName=\"846af73c7a1a0a70723b688cbd880711b8a2fbd8\" replyCount=\"1\" likeCount=\"0\">Hallo! Kann man Ihren Zitationsstyle auch mit Fußnoten verbinden?</comment>\n",
      "  <comment publishedAt=\"2021-03-08 16:19:15\" authorName=\"ac101a4f0614bc247292d67592ce9a93f106db87\" replyCount=\"\" likeCount=\"1\">Meinen nicht, aber dafür gibt es andere.</comment>\n",
      "  <comment publishedAt=\"2021-03-02 10:32:41\" authorName=\"447569f4773efab076f028b234d480e0f73b9695\" replyCount=\"2\" likeCount=\"0\">Hallo! Wo kann ich den Zitation Style mit ebd finden?</comment>\n",
      "  <comment publishedAt=\"2021-03-03 07:09:01\" authorName=\"ac101a4f0614bc247292d67592ce9a93f106db87\" replyCount=\"\" likeCount=\"0\">Das ist der Style &quot;Deutsche Sprache&quot;: https://www.zotero.org/styles/deutsche-sprache</comment>\n",
      "  <comment publishedAt=\"2021-03-03 12:29:40\" authorName=\"447569f4773efab076f028b234d480e0f73b9695\" replyCount=\"\" likeCount=\"0\">@@ali_tudresden Dankeschön!</comment>\n",
      "  <comment publishedAt=\"2021-02-12 15:30:32\" authorName=\"504cc85afca623b69f2ecc33e3cd9d737e3d50ad\" replyCount=\"0\" likeCount=\"2\">Vielen Danke, für mich war das Video sehr hilfreich :)</comment>\n",
      "  <comment publishedAt=\"2021-02-11 23:15:07\" authorName=\"3c334f77e185d1cafe1293785ab7cb75db011fbe\" replyCount=\"1\" likeCount=\"1\">Ist es mit Zotero möglich, auf die Quellen im Text mit einer Nr. [1] zu verweisen? Wenn ja, kann man einstellen, dass er die Nr im Literaturverzeichnis entsprechend anpasst? Sprich, dass von [1] auf [2] gewechselt wird, wenn weiter vorne eine weitere Quelle hinzugefügt wird?</comment>\n",
      "  <comment publishedAt=\"2021-02-12 06:59:22\" authorName=\"ac101a4f0614bc247292d67592ce9a93f106db87\" replyCount=\"\" likeCount=\"1\">Das geht, man muss einfach einen entsprechenden Style wählen, z.B. Elsevier Vancouver: https://www.zotero.org/styles/elsevier-vancouver</comment>\n",
      "  <comment publishedAt=\"2021-02-04 22:10:58\" authorName=\"24efa229c5a964f4a5c264a2c972346dce543331\" replyCount=\"2\" likeCount=\"0\">die ausgangssituation bei den meisten lesern dürfte ein verzeichnis voller digitaler dokumente sein. kann zotero speicher automatisch nach literatur suchen und automatisch erkennen ?</comment>\n",
      "  <comment publishedAt=\"2021-02-05 09:33:48\" authorName=\"ac101a4f0614bc247292d67592ce9a93f106db87\" replyCount=\"\" likeCount=\"1\">Ein ganzes Verzeichnis mit pdfs auslesen geht glaube ich nicht. Aber man kann DOIs o.ä. angeben, dann werden die bibliographischen Angaben ergänzt.</comment>\n",
      "  <comment publishedAt=\"2021-02-05 14:27:14\" authorName=\"24efa229c5a964f4a5c264a2c972346dce543331\" replyCount=\"\" likeCount=\"0\">@@ali_tudresden hab dank für deine schnelle antwort ! ich kann/will nicht hunderte dokumente manuell archivieren. vielleicht gibts ein &quot;crawler&quot;-plugin für zotero. ich suche soetwas wie KODI (ehemals XBMC; siehe www.kodi.tv) nicht für videos sondern dokumente.</comment>\n",
      "  <comment publishedAt=\"2021-01-31 13:51:43\" authorName=\"9bd7ef0e94e318bfc4f330cfd6ab6e2dcbc89761\" replyCount=\"2\" likeCount=\"3\">Auch von mir zuallererst herzlichen Dank für das informative Video. Gibt es Vorteile eher Chrome als Firefox in Verbindung mit Zotero zu nutzen?</comment>\n",
      "  <comment publishedAt=\"2021-02-01 07:36:32\" authorName=\"ac101a4f0614bc247292d67592ce9a93f106db87\" replyCount=\"\" likeCount=\"0\">Das weiß ich ehrlich gesagt nicht, ich denke, beide Browser funktionieren. Safari ging früher mal, aber jetzt nicht mehr, darum meine Chrome-Empfehlung.</comment>\n",
      "  <comment publishedAt=\"2021-02-01 14:54:37\" authorName=\"9bd7ef0e94e318bfc4f330cfd6ab6e2dcbc89761\" replyCount=\"\" likeCount=\"1\">@@ali_tudresden Vielen lieben Dank</comment>\n",
      "  <comment publishedAt=\"2021-01-18 22:07:14\" authorName=\"065bcad8b37065bbfb2aa23d0c228f7ab094107e\" replyCount=\"1\" likeCount=\"1\">Super Video, vielen lieben Dank! Ich habe Deinen Zitation Style heruntergeladen. Wenn ich ihn eingebe kommt allerdings: ([CSL STYLE ERROR: reference with no printed form.]) :( Und noch eine Frage: Hast du deine Quellen so umbenannt, dass es richtig passt, wenn du zitierst? Bei mir heißen gewisse Texte, die ich von unserer BiB nehme einfach &quot;Full Text&quot; und so steht es dann auch in meinem Text</comment>\n",
      "  <comment publishedAt=\"2021-02-04 07:19:38\" authorName=\"ac101a4f0614bc247292d67592ce9a93f106db87\" replyCount=\"\" likeCount=\"0\">Hast du die neueste Version des Style benutzt? https://www.zotero.org/styles/technische-universitat-dresden-linguistik Und wenn Du mit den Quellen die pdfs meinst: Die Umbenennung kann man mit dem Plugin ZotFile erledigen lassen. Wenn es um die Literatureinträge selbst geht: Ob das automatische Einlesen funktioniert, hängt halt davon ab, ob Metadaten hinterlegt sind. Prinzipiell sollte man immer nachkontrollieren und ggf. manuell ergänzen.</comment>\n",
      "  <comment publishedAt=\"2021-01-13 14:31:00\" authorName=\"5b8d2d5770995bb8a8403efac9fba468bde9719e\" replyCount=\"0\" likeCount=\"5\">Sehr hilfreiches Video! Vielen Dank für die Mühe:-)</comment>\n",
      "  <comment publishedAt=\"2021-01-11 10:17:24\" authorName=\"1c4f91673f6913ca43ac9b373b5ec88eae6704ae\" replyCount=\"0\" likeCount=\"2\">Danke!</comment>\n",
      "  <comment publishedAt=\"2021-01-09 06:34:56\" authorName=\"b58f2daaee37ad8a8800bef8dc2f54ab3ed324dc\" replyCount=\"1\" likeCount=\"0\">Hey :) ich muss in 2 Tagen meine Masterarbeit an der TU Dresden abgeben. Weisst du ob es möglich ist, quellen im Literaturverzeichnis direkt zu verändern? Ich habe 22 Seiten quellen, ich weiß wie die quelle richtig aussehen muss aber ich kann sie nicht manuell verändern</comment>\n",
      "  <comment publishedAt=\"2021-01-09 06:42:34\" authorName=\"ac101a4f0614bc247292d67592ce9a93f106db87\" replyCount=\"\" likeCount=\"0\">Dazu gibt es in Word die Funktion &quot;Unlink citations&quot;, das wandelt alle Referenzen in Fließtext in LV in reinen Text um. Das aber erst ganz am Schluss machen, denn man kann dann nichts mehr updaten.</comment>\n",
      "  <comment publishedAt=\"2021-01-06 17:44:56\" authorName=\"3d651d5420b0d17d850c02d095a5c0f18532c589\" replyCount=\"2\" likeCount=\"2\">Tolles Video! Ist es notwendig, mir einen Zotero-Internet-Account zu erstellen, wenn ich nur die einfachen Literaturfeatures nutzen will?</comment>\n",
      "  <comment publishedAt=\"2021-01-06 19:53:14\" authorName=\"ac101a4f0614bc247292d67592ce9a93f106db87\" replyCount=\"\" likeCount=\"1\">&quot;Zotero is a local program that stores your data on your own computer, and it can be used without sharing any data with us — you don’t even need to create a Zotero account to use it.&quot; (https://www.zotero.org/why)</comment>\n",
      "  <comment publishedAt=\"2021-01-07 11:55:27\" authorName=\"3d651d5420b0d17d850c02d095a5c0f18532c589\" replyCount=\"\" likeCount=\"1\">@@ali_tudresden Vielen Dank für die schnelle Rückmeldung!!</comment>\n",
      "  <comment publishedAt=\"2021-01-04 08:58:42\" authorName=\"ecf65b3229d39e811bac308c3313bc339c6753be\" replyCount=\"0\" likeCount=\"3\">Vielen Dank für das sehr hilfreiche Tutorial! :)</comment>\n",
      "  <comment publishedAt=\"2020-12-21 13:14:21\" authorName=\"d8dac1165ceea1ac2ce7ae4eebb556b2ba9083fc\" replyCount=\"0\" likeCount=\"2\">Hallo, erstmal vielen Dank für das informative Video! Wie kann ich bei Zotero Normen einfügen? Leider finde ich dazu nichts</comment>\n",
      "  <comment publishedAt=\"2020-11-16 15:43:59\" authorName=\"423dfea9af815d2ace807c800fa92b8d0a08c544\" replyCount=\"2\" likeCount=\"0\">weiß jemand wie man den plug in beim Mac bei Safari bekommt, ich habe es schon mehrmal heruntergeladen und mit der drop box probiert aber es geht nicht.. bei google chrome funktioniert es aber bei safari nicht</comment>\n",
      "  <comment publishedAt=\"2020-11-16 15:46:51\" authorName=\"ac101a4f0614bc247292d67592ce9a93f106db87\" replyCount=\"\" likeCount=\"0\">Es gibt gerade kein funktionierendes Safari-Plugin.</comment>\n",
      "  <comment publishedAt=\"2020-11-16 15:51:12\" authorName=\"423dfea9af815d2ace807c800fa92b8d0a08c544\" replyCount=\"\" likeCount=\"0\">@@ali_tudresden vielen lieben Dank für die schnelle Auskunft!! sehr nett ! Das video ist top! kann es sein, dass word manchmal wegen Zotero einfriert bzw. der Laptop, es passiert mir sobald ich ein Zitat einfügen möchte..</comment>\n",
      "  <comment publishedAt=\"2020-10-13 07:00:25\" authorName=\"b88ffdfb06a2f6fa1673c5480368e765a8e0dd85\" replyCount=\"1\" likeCount=\"0\">Guten Tag Herr Meier-Vieracker, vielen Dank für das informative Video. Ich habe direkt damit begonnen, meine Seminararbeit in ALI damit zu schreiben &amp; zu belegen. Leider ist mir aufgefallen, dass Zotero bei Internetquellen, die als 'Website'-Einträge inkl. Angabe des Download-Datums hinterlegt sind, diese Information beim Zitierstil von Ihnen nicht mit zieht (weder im Fließtext noch im Lit.verzeichnis). Gibt es dazu einen Trick oder bleibt nur das manuelle Hinzufügen? Ich danke Ihnen sehr für Feedback. Freundliche Grüße, Isabell Müller</comment>\n",
      "  <comment publishedAt=\"2020-10-13 07:04:30\" authorName=\"ac101a4f0614bc247292d67592ce9a93f106db87\" replyCount=\"\" likeCount=\"0\">Das liegt daran, dass ich die Datumsangabe in dem von mir favorisierten Stil ohnehin nicht verlange.</comment>\n",
      "  <comment publishedAt=\"2020-07-08 10:00:03\" authorName=\"a25e59ba20d909227ba0d7264d74a2f126235ef9\" replyCount=\"0\" likeCount=\"8\">Hallo, vielen lieben Dank für das sehr informative und kurze Video. Ich schreibe aktuell an der TU Dresden meine Masterarbeit und konnte mit deiner Hilfe sehr schnell Zotero verstehen. Liebe Grüße!</comment>\n",
      "  <comment publishedAt=\"2020-07-07 18:13:45\" authorName=\"d5f21bf56b5731554b065021abe67db47f5452a6\" replyCount=\"0\" likeCount=\"4\">Lebensretter!!! Danke :-*</comment>\n",
      "  <comment publishedAt=\"2020-06-30 10:44:19\" authorName=\"7eab16fe10cfc5d9f77a794356617a008f3976a5\" replyCount=\"1\" likeCount=\"0\">Guten Tag Herr Meier-Vieracker, leider finde ich das Zitations-Plugin nicht mehr auf Ihrer Website &quot;Fussballlinguistik&quot;...könnten Sie mir helfen? Danke und herzlich Nicole Franken</comment>\n",
      "  <comment publishedAt=\"2020-07-01 17:29:59\" authorName=\"ac101a4f0614bc247292d67592ce9a93f106db87\" replyCount=\"\" likeCount=\"0\">Bitte mal in der Videobeschreibung nachsehen…</comment>\n",
      "  <comment publishedAt=\"2020-06-17 07:35:26\" authorName=\"7eab16fe10cfc5d9f77a794356617a008f3976a5\" replyCount=\"8\" likeCount=\"1\">Guten Morgen Herr Meier-Vieracker, vielen Dank für Ihr Tutorial! Ich habe mich entschieden, für meine Promotion Zotero zu nutzen und möchte von Anfang an alles in Zotero einpflegen, auch die unzähligen eBooks und pdf von vorherigen Studiengängen, die auf meiner Festplatte schlummern. Wie haben Sie Ihre beeindruckend organisierte Bibliothek angelegt (sichtbar ab Minute 3:17)? Haben Sie hierfür Tipps/Links? Ich habe mir Zotero gestern frisch installiert. Vielen Dank im Voraus und herzlich aus Köln! Nicole Franken</comment>\n",
      "  <comment publishedAt=\"2020-06-17 07:44:51\" authorName=\"ac101a4f0614bc247292d67592ce9a93f106db87\" replyCount=\"\" likeCount=\"2\">Wieso, die ist doch gar nicht organisiert. Ich habe einfach eine große lange Liste. Manche legen sich projektweise Subbibliotheken an, aber das mache ich nur für Seminare und Gruppenbibliotheken.</comment>\n",
      "  <comment publishedAt=\"2020-06-17 08:43:39\" authorName=\"7eab16fe10cfc5d9f77a794356617a008f3976a5\" replyCount=\"\" likeCount=\"1\">@@ali_tudresden Ich meine konkret dieses &quot;Fenster auf der rechten Seite in der Bibliothek, sichtbar ab Minute 3:17, mit den Begriffen Infos, Notizen, etc. drüber und dem untereinanderstehenden Inhalt &quot;Eintagsart, Ttitel, Autor, etc&quot; - kann leider keinen Screenshot einfügen. Wo kann man das einstellen? bei Mir gibt das Zotero nur in Spalten her...</comment>\n",
      "  <comment publishedAt=\"2020-06-17 08:48:54\" authorName=\"ac101a4f0614bc247292d67592ce9a93f106db87\" replyCount=\"\" likeCount=\"0\">@@nicolefranken7049 Ach so. Einfach mal auf den kleinen Punkt in der Mitte des Fensterrahmens ganz rechts klicken. Dann klappt sich diese Übersicht aus.</comment>\n",
      "  <comment publishedAt=\"2020-06-17 09:12:49\" authorName=\"7eab16fe10cfc5d9f77a794356617a008f3976a5\" replyCount=\"\" likeCount=\"0\">@@ali_tudresden Supercool - vielen Dank, hätte ich alleine nie gefunden! Wo haben Sie diese Tricks her?</comment>\n",
      "  <comment publishedAt=\"2020-06-17 10:51:04\" authorName=\"7eab16fe10cfc5d9f77a794356617a008f3976a5\" replyCount=\"\" likeCount=\"0\">@@ali_tudresden Allerletzte Rückfrage: Wissen Sie zuflllig, ob ich auch alle meine pdfs und eBooks auf meiner Festplatte auch in Citavi einpflegen kann? Dankeshön im Voraus!</comment>\n",
      "  <comment publishedAt=\"2020-06-17 15:48:45\" authorName=\"ac101a4f0614bc247292d67592ce9a93f106db87\" replyCount=\"\" likeCount=\"1\">@@nicolefranken7049 Klar. Ich nutze Citavi nicht weil Windows aber alles was Zotero kann, kann Citavi auch. Nur umsonst sein ist Zotero vorbehalten :)</comment>\n",
      "  <comment publishedAt=\"2020-06-18 07:49:40\" authorName=\"7eab16fe10cfc5d9f77a794356617a008f3976a5\" replyCount=\"\" likeCount=\"0\">@@ali_tudresden Sorry, ich schreib Citavi statt Zotero...wie kann ich alle meine pdfs und eBooks von der Festplatte in Zotero einpflegen?</comment>\n",
      "  <comment publishedAt=\"2020-06-18 12:42:29\" authorName=\"ac101a4f0614bc247292d67592ce9a93f106db87\" replyCount=\"\" likeCount=\"1\">@@nicolefranken7049 Entweder Rechtsklick auf Eintrag und dann &quot;Anhänge hinzufügen&quot; oder das pdf per Drag'n'Drop auf den Eintrag schieben, dann wird es verknüpft.</comment>\n",
      "  <comment publishedAt=\"2020-06-05 09:46:01\" authorName=\"df08983ce6b3732b18b4e2d078cf2bcd180590ba\" replyCount=\"0\" likeCount=\"6\">Vielen Dank!</comment>\n",
      "  <comment publishedAt=\"2020-05-24 05:46:03\" authorName=\"d08764488fba502a4788116c47778c23914c8c6c\" replyCount=\"0\" likeCount=\"5\">Vielen Dank für das tolle Video :)</comment>\n",
      "  <comment publishedAt=\"2020-05-22 20:09:32\" authorName=\"6ad0354abe12928fffedba2728e11a769ecfe103\" replyCount=\"0\" likeCount=\"5\">Vielen Dank für das Video.</comment>\n",
      "  <comment publishedAt=\"2020-05-15 20:04:47\" authorName=\"7d8ad84b95e4106d8a72023bb15c58c32053c5f0\" replyCount=\"0\" likeCount=\"37\">Super Video, vor allem einfach und grundlegend. Gut gemacht!</comment>\n",
      "  <comment publishedAt=\"2020-05-12 09:59:52\" authorName=\"b936a60145fb5d28b17ba028153c75ed6b8760b5\" replyCount=\"2\" likeCount=\"1\">Hey :), wie kann ich deinen Citation Style einbinden?</comment>\n",
      "  <comment publishedAt=\"2020-05-24 09:21:35\" authorName=\"ac101a4f0614bc247292d67592ce9a93f106db87\" replyCount=\"\" likeCount=\"0\">Er ist inzwischen über das normale Repositorium beziehbar: https://www.zotero.org/styles/technische-universitat-dresden-linguistik</comment>\n",
      "  <comment publishedAt=\"2020-05-24 09:40:06\" authorName=\"b936a60145fb5d28b17ba028153c75ed6b8760b5\" replyCount=\"\" likeCount=\"1\">Angewandte Linguistik TU Dresden Danke 🙏🏼</comment>\n",
      "  <comment publishedAt=\"2020-05-11 11:51:59\" authorName=\"d9e452ec90eda7f40d0c123f592c59982dd22704\" replyCount=\"2\" likeCount=\"1\">Vielen Dank für das sehr informative Video! Ich habe eine Frage bezüglich der Zitierweise; gibt es bei Zotero auch die Möglichkeit die Zitierweise mit Fußnoten als Standard festzulegen? Viele Grüße!</comment>\n",
      "  <comment publishedAt=\"2020-05-11 11:55:16\" authorName=\"ac101a4f0614bc247292d67592ce9a93f106db87\" replyCount=\"\" likeCount=\"2\">Ja, gibt es. Das kann z.B. der Style &quot;Chicago Manual of Style&quot;.</comment>\n",
      "  <comment publishedAt=\"2020-05-11 12:24:25\" authorName=\"d9e452ec90eda7f40d0c123f592c59982dd22704\" replyCount=\"\" likeCount=\"1\">@@ali_tudresden Dankeschön! Jetzt steht der Abschlussarbeit nichts mehr im Weg!</comment>\n",
      "  <comment publishedAt=\"2020-04-28 11:10:44\" authorName=\"70ff5acc648cd121c243004c6a1dda784a4b2c13\" replyCount=\"2\" likeCount=\"3\">Hallo, danke für das Video. Ich werde es meinen Studierenden dieses Semester empfehlen und es spart mir, für meine Lehre noch ein Video mehr drehen zu müssen. Super! :)</comment>\n",
      "  <comment publishedAt=\"2020-04-28 11:14:09\" authorName=\"ac101a4f0614bc247292d67592ce9a93f106db87\" replyCount=\"\" likeCount=\"1\">Danke, eine Fortsetzung gibt es übrigens hier: https://youtu.be/HFIPQqcTEiA</comment>\n",
      "  <comment publishedAt=\"2020-04-28 11:22:08\" authorName=\"70ff5acc648cd121c243004c6a1dda784a4b2c13\" replyCount=\"\" likeCount=\"1\">@@ali_tudresden Vielen lieben Dank! Perfect! :) Hab mich auch gerade schon geärgert, dass ich das Video zu loom nicht schon früher entdeckt habe! ;)</comment>\n",
      "  <comment publishedAt=\"2020-04-11 05:59:54\" authorName=\"962960664876cfdc03c42e1b8c4716d108b18546\" replyCount=\"1\" likeCount=\"0\">funktioniert das nur mit Chrome oder auch in Safari?</comment>\n",
      "  <comment publishedAt=\"2020-04-11 06:28:33\" authorName=\"ac101a4f0614bc247292d67592ce9a93f106db87\" replyCount=\"\" likeCount=\"0\">Safari ging zum Zeitpunkt der Videoaufzeichnung nicht, sollte jetzt aber wieder: https://www.zotero.org/download/connectors</comment>\n",
      "</corpus>\n",
      "\n"
     ]
    }
   ],
   "source": [
    "# XML-Datei ausgeben\n",
    "xmlstr = minidom.parseString(et.tostring(corpus)).toprettyxml(indent=\"  \")\n",
    "print(xmlstr)\n",
    "\n",
    "with open(\"Data/youtube.xml\", \"w\") as xmlout:\n",
    "    xmlout.write(xmlstr)"
   ]
  },
  {
   "cell_type": "code",
   "execution_count": null,
   "id": "fdf9a4ef",
   "metadata": {},
   "outputs": [],
   "source": []
  }
 ],
 "metadata": {
  "kernelspec": {
   "display_name": "Python 3 (ipykernel)",
   "language": "python",
   "name": "python3"
  },
  "language_info": {
   "codemirror_mode": {
    "name": "ipython",
    "version": 3
   },
   "file_extension": ".py",
   "mimetype": "text/x-python",
   "name": "python",
   "nbconvert_exporter": "python",
   "pygments_lexer": "ipython3",
   "version": "3.8.8"
  }
 },
 "nbformat": 4,
 "nbformat_minor": 5
}
