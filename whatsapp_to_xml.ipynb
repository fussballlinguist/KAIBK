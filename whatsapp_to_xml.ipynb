{
 "cells": [
  {
   "cell_type": "markdown",
   "metadata": {},
   "source": [
    "# Jupyter Notebook zur Umwandlung von WhatsApp Exportdateien nach xlsx und XML\n",
    "\n",
    "Autor: Simon Meier-Vieracker (https://github.com/fussballlinguist/)"
   ]
  },
  {
   "cell_type": "code",
   "execution_count": null,
   "metadata": {},
   "outputs": [],
   "source": [
    "import re\n",
    "import xml.etree.ElementTree as et\n",
    "from xml.dom import minidom\n",
    "import pandas as pd"
   ]
  },
  {
   "cell_type": "code",
   "execution_count": null,
   "metadata": {},
   "outputs": [],
   "source": [
    "with open(\"whatsapp.txt\") as f:\n",
    "    chat = f.read()"
   ]
  },
  {
   "cell_type": "code",
   "execution_count": null,
   "metadata": {},
   "outputs": [],
   "source": [
    "chat = re.sub(r'\\n(?=[^\\[])',' ',chat)\n",
    "lines = chat.split(\"\\n\")\n",
    "filtered_lines = [line for line in lines if '\\u200E' not in line]"
   ]
  },
  {
   "cell_type": "code",
   "execution_count": null,
   "metadata": {},
   "outputs": [],
   "source": [
    "def parse_whatsapp_line(line):\n",
    "    pattern = r'\\[(\\d{2})\\.(\\d{2})\\.(\\d{2}), (\\d{2}:\\d{2}:\\d{2})\\] (.*?): (.*)'\n",
    "    match = re.match(pattern, line)\n",
    "    \n",
    "    if match:\n",
    "        day, month, year, time, author, message = match.groups()\n",
    "        date = f\"{year}-{month}-{day}T{time}\"\n",
    "        return date, author, message"
   ]
  },
  {
   "cell_type": "code",
   "execution_count": null,
   "metadata": {},
   "outputs": [],
   "source": [
    "corpus = et.Element(\"corpus\")\n",
    "\n",
    "rows = []\n",
    "cols = [\"date\",\"author\",\"message\"]\n",
    "\n",
    "for line in filtered_lines:\n",
    "    date, author, message = parse_whatsapp_line(line)\n",
    "    message = et.SubElement(corpus, \"message\", {\"date\":date, \"author\":author})\n",
    "    message.text = message\n",
    "\n",
    "    rows.append({\"date\":date,\n",
    "                 \"author\":author,\n",
    "                 \"message\":message})"
   ]
  },
  {
   "cell_type": "code",
   "execution_count": null,
   "metadata": {},
   "outputs": [],
   "source": [
    "df = pd.DataFrame(rows, columns=cols)\n",
    "df.to_excel(\"whatsapp.xlsx\")"
   ]
  },
  {
   "cell_type": "code",
   "execution_count": null,
   "metadata": {},
   "outputs": [],
   "source": [
    "xmlstr = minidom.parseString(et.tostring(corpus)).toprettyxml(indent=\"  \")\n",
    "print(xmlstr)\n",
    "with open(\"whatsapp.xml\", \"w\") as xmlout:\n",
    "    xmlout.write(xmlstr)"
   ]
  }
 ],
 "metadata": {
  "kernelspec": {
   "display_name": "base",
   "language": "python",
   "name": "python3"
  },
  "language_info": {
   "codemirror_mode": {
    "name": "ipython",
    "version": 3
   },
   "file_extension": ".py",
   "mimetype": "text/x-python",
   "name": "python",
   "nbconvert_exporter": "python",
   "pygments_lexer": "ipython3",
   "version": "3.8.8"
  }
 },
 "nbformat": 4,
 "nbformat_minor": 2
}
