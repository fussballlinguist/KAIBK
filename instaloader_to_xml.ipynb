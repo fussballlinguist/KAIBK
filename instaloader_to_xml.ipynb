{
 "cells": [
  {
   "cell_type": "markdown",
   "id": "26ddd3ed",
   "metadata": {},
   "source": [
    "## Jupyter Notebook zur Umwandlung von Instaloader-Dateien (JSON) in XML\n",
    "\n",
    "Autor: Simon Meier-Vieracker (https://github.com/fussballlinguist/)"
   ]
  },
  {
   "cell_type": "code",
   "execution_count": 1,
   "id": "9badd4dd-e1bb-4853-9821-6c720d90726d",
   "metadata": {},
   "outputs": [],
   "source": [
    "import json\n",
    "import xml.etree.ElementTree as et\n",
    "from xml.dom import minidom\n",
    "from datetime import datetime"
   ]
  },
  {
   "cell_type": "code",
   "execution_count": 2,
   "id": "1c8f7148-0f09-4fd9-96de-d813c4e6c22a",
   "metadata": {},
   "outputs": [],
   "source": [
    "# JSON einlesen\n",
    "with open(\"Data/instagram_anonymized.json\") as f:\n",
    "    txt = f.read()\n",
    "txtj = json.loads(txt)"
   ]
  },
  {
   "cell_type": "code",
   "execution_count": 3,
   "id": "5cdd3763-4268-4af2-84f0-54f46d78d64c",
   "metadata": {},
   "outputs": [],
   "source": [
    "# XML anlegen\n",
    "corpus = et.Element(\"text\")\n",
    "\n",
    "# JSON durchgehen, Text und Metadaten auslesen und in XML-Datei schreiben \n",
    "for comment in txtj:\n",
    "    username = comment[\"owner\"][\"username\"]\n",
    "    likes = str(comment[\"likes_count\"])\n",
    "    #Zeitstempel aus UNIX-Format in menschenlesbares Format umwandeln\n",
    "    time = datetime.utcfromtimestamp(int(comment[\"created_at\"])).strftime('%Y-%m-%d %H:%M:%S')\n",
    "    reply_count = str(len(comment[\"answers\"]))\n",
    "    comment_element = et.SubElement(corpus, \"comment\", {\"username\":username,\"time\":time,\"likes\":likes,\"replies\":reply_count})\n",
    "    comment_text = comment[\"text\"].strip()\n",
    "    comment_text2 = comment_text.strip()\n",
    "    comment_element.text = comment_text2\n",
    "    for answer in comment[\"answers\"]:\n",
    "        username = answer[\"owner\"][\"username\"]\n",
    "        likes = str(answer[\"likes_count\"])\n",
    "        time = datetime.utcfromtimestamp(int(comment[\"created_at\"])).strftime('%Y-%m-%d %H:%M:%S')\n",
    "        reply_element = et.SubElement(corpus, \"reply\", {\"username\":username,\"time\":time,\"likes\":likes})\n",
    "        reply_element.text = answer[\"text\"]"
   ]
  },
  {
   "cell_type": "code",
   "execution_count": 4,
   "id": "bdf221a1-a3fd-4409-b189-e1cb7027e016",
   "metadata": {},
   "outputs": [
    {
     "name": "stdout",
     "output_type": "stream",
     "text": [
      "<?xml version=\"1.0\" ?>\n",
      "<text>\n",
      "  <comment username=\"b13ef0b0dfd03cac8996460a8132f44d394be31a46faf7ed223ae45e15f74196\" time=\"2021-08-09 08:02:45\" likes=\"1\" replies=\"0\">Schade....Das ist spießig und &quot;altdeutsch&quot; muffig</comment>\n",
      "  <comment username=\"b13ef0b0dfd03cac8996460a8132f44d394be31a46faf7ed223ae45e15f74196\" time=\"2021-08-02 15:35:30\" likes=\"5\" replies=\"2\">Kennt Ihr das auch,dass Sonntags keine Wäsche gewaschen  werden sollte?</comment>\n",
      "  <reply username=\"b13ef0b0dfd03cac8996460a8132f44d394be31a46faf7ed223ae45e15f74196\" time=\"2021-08-02 15:35:30\" likes=\"0\">@user völlig veraltet.Vater hatte eigenes großes Grundstück mit selbstgebauten  Hahs,und Ihn war das egal...</reply>\n",
      "  <reply username=\"36dd933bbf6ec97a3db4a82b09eb42bb19e132cd5357426d2c94b115c0a89cce\" time=\"2021-08-02 15:35:30\" likes=\"1\">Oder an bestimmten Feiertagen?</reply>\n",
      "  <comment username=\"88651f543179b2ce4d95f8153803f361545e2ebdacad892920c9707a4583871e\" time=\"2021-08-02 11:46:08\" likes=\"1\" replies=\"0\">Danke 🙏 für diesen Wochen Rückblick liebe Sophie 🙋‍♀️ 🌞 😍.</comment>\n",
      "  <comment username=\"a9aec3c8ff11315e6c5568941f5016d6b5654d18cebaf6477858860e35c24d0f\" time=\"2021-08-02 11:12:07\" likes=\"6\" replies=\"0\">Genieße einfach die leichten Momente, denn die Grauen des Regiems wird dich nur zu schnell einholen.</comment>\n",
      "  <comment username=\"4701214b855a7eb281166c5ab2491c585c748b10261bea2c7f22ccf023707315\" time=\"2021-08-02 10:46:16\" likes=\"2\" replies=\"0\">❤️‍🔥</comment>\n",
      "  <comment username=\"de4946a1c922a959b00d4afcf68a02061e0c773f236031b63809b50bbee342e0\" time=\"2021-08-02 10:22:45\" likes=\"155\" replies=\"3\">#TeamSoffer Vergleiche der Repressionen im Nationalsozialismus mit den Maßnahmen zur Eindämmung der Corona-Pandemie werden von uns entfernt. Derartige Vergleiche widersprechen historischen Fakten und verharmlosen das NS-Regime. Bitte unterlasst solche und ähnliche Relativierungen.</comment>\n",
      "  <reply username=\"39abbb5fefe16e664efd429b1eb57b155318200c1be301c1fbd27cc372e911b0\" time=\"2021-08-02 10:22:45\" likes=\"9\">@user 👏👏👏leider  wird bei uns in Spanien auch sehr leichtsinnig mit dem Begriff &quot;Nazi&quot; umgegangen von Rechtsgesinnten . Nicht nur von den &quot;Negacionistas&quot;, also Coronaleugnern, sogar Frauenrechtlerinnen werden hier als &quot;Feminazis&quot; beschimpft.... sehr sehr traurig</reply>\n",
      "  <reply username=\"66eaf5b9148b2a85cf3b62d1bfba73be2787008006ed57e88da2f9c126bdb649\" time=\"2021-08-02 10:22:45\" likes=\"4\">@user traurig das man so etwas überhaupt sagen muss und das so etwas damit verglichen wird!😡</reply>\n",
      "  <reply username=\"f2a6398970bd0f17f74dd9ec5d821dfa55672efaeea6847c4866be4109ab9773\" time=\"2021-08-02 10:22:45\" likes=\"4\">@user danke für Eure klaren Worte.</reply>\n",
      "  <comment username=\"1d4f8ef7d9375e04198f37ca462c7f96c672963a6e36516e48a7c0e8e7d6c166\" time=\"2021-08-02 06:18:10\" likes=\"6\" replies=\"1\">Was gibt es wunderbare res, als sich wieder wie ein Kind zu fühlen</comment>\n",
      "  <reply username=\"36dd933bbf6ec97a3db4a82b09eb42bb19e132cd5357426d2c94b115c0a89cce\" time=\"2021-08-02 06:18:10\" likes=\"0\">@user  Tabaluga</reply>\n",
      "  <comment username=\"6684b708d75277d9aad63b0a97167f3068caeb04895ea9a7e7c732b2c14e2e55\" time=\"2021-08-01 20:30:52\" likes=\"10\" replies=\"0\">Die Kehrwoche gibts hier heute noch. Die Flädlesupp auch - heutzutage sogar in der veganen Version. Obwohl es die zu Kriegszeiten sicher oftmals gezwungenermaßen auch schon als vegane Version gab weil es nicht immer alles gab an Zutaten. Geschmacklich merkt man das aber am ende nicht. :)</comment>\n",
      "  <comment username=\"e43d8c807179d8a00176109529f682afe682794516aada72292ebd612dcd7382\" time=\"2021-08-01 19:59:33\" likes=\"5\" replies=\"0\">❤️❤️</comment>\n",
      "  <comment username=\"da31da4c7a698b442d6e795020f298027b532c065b5f9be76653f77adce309e9\" time=\"2021-08-01 19:42:25\" likes=\"4\" replies=\"0\">@user @julzn94</comment>\n",
      "  <comment username=\"f5159b7188929abc6ff838fe389a0e1ba134ad968b1d4514cb515a722f9e0a67\" time=\"2021-08-01 18:31:06\" likes=\"14\" replies=\"0\">@user  wie finden eigtl die Nachfahren von deiner Schwester und Fritz das Projekt:)</comment>\n",
      "  <comment username=\"47160b6242bea7cdba0245247cf2f6ce1414f960d90f04295b6f8972e9cb0ccc\" time=\"2021-08-01 18:30:55\" likes=\"5\" replies=\"0\">🙌🙌</comment>\n",
      "  <comment username=\"47160b6242bea7cdba0245247cf2f6ce1414f960d90f04295b6f8972e9cb0ccc\" time=\"2021-08-01 18:30:54\" likes=\"4\" replies=\"0\">❤️❤️</comment>\n",
      "  <comment username=\"f55fc5ed8cc855333c2c444cd320971800191a904faf3a069691fa14a5bbab22\" time=\"2021-08-01 18:13:44\" likes=\"5\" replies=\"0\">Kehrwoch‘ isch imma 👆 schön dass Du wieder in Ulm gelandet bist ♡</comment>\n",
      "</text>\n",
      "\n"
     ]
    }
   ],
   "source": [
    "# XML ausgeben\n",
    "xmlstr = minidom.parseString(et.tostring(corpus)).toprettyxml(indent=\"  \")\n",
    "print(xmlstr)"
   ]
  },
  {
   "cell_type": "code",
   "execution_count": null,
   "id": "63893329",
   "metadata": {},
   "outputs": [],
   "source": []
  }
 ],
 "metadata": {
  "kernelspec": {
   "display_name": "Python 3 (ipykernel)",
   "language": "python",
   "name": "python3"
  },
  "language_info": {
   "codemirror_mode": {
    "name": "ipython",
    "version": 3
   },
   "file_extension": ".py",
   "mimetype": "text/x-python",
   "name": "python",
   "nbconvert_exporter": "python",
   "pygments_lexer": "ipython3",
   "version": "3.8.8"
  }
 },
 "nbformat": 4,
 "nbformat_minor": 5
}
